{
 "cells": [
  {
   "cell_type": "code",
   "execution_count": 2,
   "id": "6a9d0525-3dd7-43cb-a9cd-0ff8d8a63270",
   "metadata": {
    "execution": {
     "iopub.execute_input": "2023-02-02T22:50:44.196093Z",
     "iopub.status.busy": "2023-02-02T22:50:44.195722Z",
     "iopub.status.idle": "2023-02-02T22:50:53.529458Z",
     "shell.execute_reply": "2023-02-02T22:50:53.528294Z",
     "shell.execute_reply.started": "2023-02-02T22:50:44.196064Z"
    },
    "tags": []
   },
   "outputs": [],
   "source": [
    "# standard imports\n",
    "import numpy as np\n",
    "import pandas as pd\n",
    "import matplotlib.pyplot as plt\n",
    "\n",
    "# displays logos inline within the notebook;\n",
    "# remove if using a python interpreter instead\n",
    "%matplotlib inline\n",
    "\n",
    "# logomaker import\n",
    "import logomaker\n",
    "\n",
    "import matplotlib as mpl\n",
    "mpl.rcParams[\"pdf.fonttype\"] = 42"
   ]
  },
  {
   "cell_type": "code",
   "execution_count": 46,
   "id": "9e3f1cfe-140a-4c9e-874e-ee503992b047",
   "metadata": {
    "execution": {
     "iopub.execute_input": "2023-02-02T23:00:17.612142Z",
     "iopub.status.busy": "2023-02-02T23:00:17.611779Z",
     "iopub.status.idle": "2023-02-02T23:00:17.985829Z",
     "shell.execute_reply": "2023-02-02T23:00:17.984559Z",
     "shell.execute_reply.started": "2023-02-02T23:00:17.612113Z"
    },
    "tags": []
   },
   "outputs": [
    {
     "name": "stderr",
     "output_type": "stream",
     "text": [
      "findfont: Font family ['OCR A Std'] not found. Falling back to DejaVu Sans.\n"
     ]
    },
    {
     "data": {
      "image/png": "[encoded data removed]",
      "text/plain": [
       "<Figure size 288x144 with 1 Axes>"
      ]
     },
     "metadata": {},
     "output_type": "display_data"
    }
   ],
   "source": [
    "# make Figure and Axes objects\n",
    "fig, ax = plt.subplots(1,1,figsize=[4,2])\n",
    "\n",
    "# load logo matrix\n",
    "logo_df = logomaker.get_example_matrix('logomaker_logo_matrix',\n",
    "                                       print_description=False)\n",
    "\n",
    "# create color scheme\n",
    "color_scheme = {\n",
    "    'L' : [0, .5, 0],\n",
    "    'O' : [1, 0, 0],\n",
    "    'G' : [1, .65, 0],\n",
    "    'maker': 'gray'\n",
    "}\n",
    "\n",
    "# create Logo object\n",
    "logo_logo = logomaker.Logo(logo_df,\n",
    "                           ax=ax,\n",
    "                           color_scheme=color_scheme,\n",
    "                           baseline_width=0,\n",
    "                           font_name='Arial',\n",
    "                           show_spines=False,\n",
    "                           vsep=.005,\n",
    "                           width=.95)\n",
    "\n",
    "# color the 'O' at the end of the logo a different color\n",
    "logo_logo.style_single_glyph(c='O', p=3, color=[0, 0, 1])\n",
    "\n",
    "# change the font of 'maker' and flip characters upright.\n",
    "logo_logo.style_glyphs_below(font_name='OCR A Std', flip=False, width=1.0)\n",
    "\n",
    "# remove tick marks\n",
    "ax.set_xticks([])\n",
    "ax.set_yticks([])\n",
    "\n",
    "# tighten layout\n",
    "logo_logo.fig.tight_layout()"
   ]
  },
  {
   "cell_type": "code",
   "execution_count": 48,
   "id": "46dea7d5-9b10-4fdd-b065-892e488e2097",
   "metadata": {
    "execution": {
     "iopub.execute_input": "2023-02-02T23:00:21.798491Z",
     "iopub.status.busy": "2023-02-02T23:00:21.798187Z",
     "iopub.status.idle": "2023-02-02T23:00:21.813708Z",
     "shell.execute_reply": "2023-02-02T23:00:21.812916Z",
     "shell.execute_reply.started": "2023-02-02T23:00:21.798463Z"
    },
    "tags": []
   },
   "outputs": [
    {
     "data": {
      "text/html": [
       "<div>\n",
       "<style scoped>\n",
       "    .dataframe tbody tr th:only-of-type {\n",
       "        vertical-align: middle;\n",
       "    }\n",
       "\n",
       "    .dataframe tbody tr th {\n",
       "        vertical-align: top;\n",
       "    }\n",
       "\n",
       "    .dataframe thead th {\n",
       "        text-align: right;\n",
       "    }\n",
       "</style>\n",
       "<table border=\"1\" class=\"dataframe\">\n",
       "  <thead>\n",
       "    <tr style=\"text-align: right;\">\n",
       "      <th></th>\n",
       "      <th>L</th>\n",
       "      <th>O</th>\n",
       "      <th>G</th>\n",
       "      <th>m</th>\n",
       "      <th>a</th>\n",
       "      <th>k</th>\n",
       "      <th>e</th>\n",
       "      <th>r</th>\n",
       "    </tr>\n",
       "    <tr>\n",
       "      <th>pos</th>\n",
       "      <th></th>\n",
       "      <th></th>\n",
       "      <th></th>\n",
       "      <th></th>\n",
       "      <th></th>\n",
       "      <th></th>\n",
       "      <th></th>\n",
       "      <th></th>\n",
       "    </tr>\n",
       "  </thead>\n",
       "  <tbody>\n",
       "    <tr>\n",
       "      <th>0</th>\n",
       "      <td>0.8</td>\n",
       "      <td>0.0</td>\n",
       "      <td>0.0</td>\n",
       "      <td>-0.5</td>\n",
       "      <td>0.0</td>\n",
       "      <td>0.0</td>\n",
       "      <td>0.0</td>\n",
       "      <td>0.0</td>\n",
       "    </tr>\n",
       "    <tr>\n",
       "      <th>1</th>\n",
       "      <td>0.0</td>\n",
       "      <td>0.6</td>\n",
       "      <td>0.0</td>\n",
       "      <td>0.0</td>\n",
       "      <td>-0.5</td>\n",
       "      <td>0.0</td>\n",
       "      <td>0.0</td>\n",
       "      <td>0.0</td>\n",
       "    </tr>\n",
       "    <tr>\n",
       "      <th>2</th>\n",
       "      <td>0.0</td>\n",
       "      <td>0.0</td>\n",
       "      <td>0.6</td>\n",
       "      <td>0.0</td>\n",
       "      <td>0.0</td>\n",
       "      <td>-0.5</td>\n",
       "      <td>0.0</td>\n",
       "      <td>0.0</td>\n",
       "    </tr>\n",
       "    <tr>\n",
       "      <th>3</th>\n",
       "      <td>0.0</td>\n",
       "      <td>0.6</td>\n",
       "      <td>0.0</td>\n",
       "      <td>0.0</td>\n",
       "      <td>0.0</td>\n",
       "      <td>0.0</td>\n",
       "      <td>-0.5</td>\n",
       "      <td>0.0</td>\n",
       "    </tr>\n",
       "    <tr>\n",
       "      <th>4</th>\n",
       "      <td>0.0</td>\n",
       "      <td>0.0</td>\n",
       "      <td>0.0</td>\n",
       "      <td>0.0</td>\n",
       "      <td>0.0</td>\n",
       "      <td>0.0</td>\n",
       "      <td>0.0</td>\n",
       "      <td>-0.5</td>\n",
       "    </tr>\n",
       "  </tbody>\n",
       "</table>\n",
       "</div>"
      ],
      "text/plain": [
       "       L    O    G    m    a    k    e    r\n",
       "pos                                        \n",
       "0    0.8  0.0  0.0 -0.5  0.0  0.0  0.0  0.0\n",
       "1    0.0  0.6  0.0  0.0 -0.5  0.0  0.0  0.0\n",
       "2    0.0  0.0  0.6  0.0  0.0 -0.5  0.0  0.0\n",
       "3    0.0  0.6  0.0  0.0  0.0  0.0 -0.5  0.0\n",
       "4    0.0  0.0  0.0  0.0  0.0  0.0  0.0 -0.5"
      ]
     },
     "execution_count": 48,
     "metadata": {},
     "output_type": "execute_result"
    }
   ],
   "source": [
    "logo_df"
   ]
  },
  {
   "cell_type": "code",
   "execution_count": 81,
   "id": "6b060114-2fb2-4daf-820f-40df55db382f",
   "metadata": {
    "execution": {
     "iopub.execute_input": "2023-02-02T23:12:02.387529Z",
     "iopub.status.busy": "2023-02-02T23:12:02.387036Z",
     "iopub.status.idle": "2023-02-02T23:12:02.413555Z",
     "shell.execute_reply": "2023-02-02T23:12:02.412652Z",
     "shell.execute_reply.started": "2023-02-02T23:12:02.387487Z"
    },
    "tags": []
   },
   "outputs": [
    {
     "data": {
      "text/html": [
       "<div>\n",
       "<style scoped>\n",
       "    .dataframe tbody tr th:only-of-type {\n",
       "        vertical-align: middle;\n",
       "    }\n",
       "\n",
       "    .dataframe tbody tr th {\n",
       "        vertical-align: top;\n",
       "    }\n",
       "\n",
       "    .dataframe thead th {\n",
       "        text-align: right;\n",
       "    }\n",
       "</style>\n",
       "<table border=\"1\" class=\"dataframe\">\n",
       "  <thead>\n",
       "    <tr style=\"text-align: right;\">\n",
       "      <th></th>\n",
       "      <th>M</th>\n",
       "      <th>o</th>\n",
       "      <th>t</th>\n",
       "      <th>i</th>\n",
       "      <th>f</th>\n",
       "      <th>D</th>\n",
       "      <th>a</th>\n",
       "      <th>T</th>\n",
       "    </tr>\n",
       "    <tr>\n",
       "      <th>pos</th>\n",
       "      <th></th>\n",
       "      <th></th>\n",
       "      <th></th>\n",
       "      <th></th>\n",
       "      <th></th>\n",
       "      <th></th>\n",
       "      <th></th>\n",
       "      <th></th>\n",
       "    </tr>\n",
       "  </thead>\n",
       "  <tbody>\n",
       "    <tr>\n",
       "      <th>0</th>\n",
       "      <td>0.8</td>\n",
       "      <td>0.0</td>\n",
       "      <td>0.0</td>\n",
       "      <td>0.0</td>\n",
       "      <td>0.0</td>\n",
       "      <td>-0.5</td>\n",
       "      <td>0.0</td>\n",
       "      <td>0.0</td>\n",
       "    </tr>\n",
       "    <tr>\n",
       "      <th>1</th>\n",
       "      <td>0.0</td>\n",
       "      <td>0.5</td>\n",
       "      <td>0.0</td>\n",
       "      <td>0.0</td>\n",
       "      <td>0.0</td>\n",
       "      <td>0.0</td>\n",
       "      <td>-0.5</td>\n",
       "      <td>0.0</td>\n",
       "    </tr>\n",
       "    <tr>\n",
       "      <th>2</th>\n",
       "      <td>0.0</td>\n",
       "      <td>0.0</td>\n",
       "      <td>0.5</td>\n",
       "      <td>0.0</td>\n",
       "      <td>0.0</td>\n",
       "      <td>0.0</td>\n",
       "      <td>0.0</td>\n",
       "      <td>-0.5</td>\n",
       "    </tr>\n",
       "    <tr>\n",
       "      <th>3</th>\n",
       "      <td>0.0</td>\n",
       "      <td>0.0</td>\n",
       "      <td>0.0</td>\n",
       "      <td>0.5</td>\n",
       "      <td>0.0</td>\n",
       "      <td>0.0</td>\n",
       "      <td>-0.5</td>\n",
       "      <td>0.0</td>\n",
       "    </tr>\n",
       "    <tr>\n",
       "      <th>4</th>\n",
       "      <td>0.0</td>\n",
       "      <td>0.0</td>\n",
       "      <td>0.0</td>\n",
       "      <td>0.0</td>\n",
       "      <td>0.8</td>\n",
       "      <td>0.0</td>\n",
       "      <td>0.0</td>\n",
       "      <td>0.0</td>\n",
       "    </tr>\n",
       "  </tbody>\n",
       "</table>\n",
       "</div>"
      ],
      "text/plain": [
       "       M    o    t    i    f    D    a    T\n",
       "pos                                        \n",
       "0    0.8  0.0  0.0  0.0  0.0 -0.5  0.0  0.0\n",
       "1    0.0  0.5  0.0  0.0  0.0  0.0 -0.5  0.0\n",
       "2    0.0  0.0  0.5  0.0  0.0  0.0  0.0 -0.5\n",
       "3    0.0  0.0  0.0  0.5  0.0  0.0 -0.5  0.0\n",
       "4    0.0  0.0  0.0  0.0  0.8  0.0  0.0  0.0"
      ]
     },
     "execution_count": 81,
     "metadata": {},
     "output_type": "execute_result"
    }
   ],
   "source": [
    "cols = \"Motif\"\n",
    "unique_cols = \"MotifDa\"\n",
    "data = np.zeros((len(cols), len(unique_cols)))\n",
    "df = pd.DataFrame(columns=[*unique_cols], index=range(len(cols)), data=data)\n",
    "df.index.name = \"pos\"\n",
    "df[\"M\"] = np.array([0.8, 0., 0., 0., 0.])\n",
    "df[\"o\"] = np.array([0., 0.5, 0., 0., 0.])\n",
    "df[\"t\"] = np.array([0., 0., 0.5, 0., 0.])\n",
    "df[\"i\"] = np.array([0., 0., 0., 0.5, 0.])\n",
    "df[\"f\"] = np.array([0., 0., 0., 0., 0.8])\n",
    "df[\"D\"] = np.array([-0.5, 0., 0., 0., 0.])\n",
    "df[\"a\"] = np.array([0., -0.5, 0., -0.5, 0.])\n",
    "df[\"T\"] = np.array([0., 0., -0.5, 0., 0.])\n",
    "df"
   ]
  },
  {
   "cell_type": "code",
   "execution_count": 103,
   "id": "02573c79-8132-44be-a8a8-44ec9a0b4bda",
   "metadata": {
    "execution": {
     "iopub.execute_input": "2023-02-02T23:14:32.698537Z",
     "iopub.status.busy": "2023-02-02T23:14:32.698221Z",
     "iopub.status.idle": "2023-02-02T23:14:32.703433Z",
     "shell.execute_reply": "2023-02-02T23:14:32.702616Z",
     "shell.execute_reply.started": "2023-02-02T23:14:32.698487Z"
    },
    "tags": []
   },
   "outputs": [],
   "source": [
    "color_scheme = {\n",
    "    'M' : [0, .5, 0],\n",
    "    'o' : [0, 0, 1],\n",
    "    't' : [0, 0.5, 0],\n",
    "    'i' : [0, 0, 1],\n",
    "    'f' : [1, .65, 0],\n",
    "    'd': [0, 0, 1],\n",
    "    'a': [1, 0, 0]\n",
    "}"
   ]
  },
  {
   "cell_type": "code",
   "execution_count": 114,
   "id": "ae4b9150-06b6-495a-b929-e0fc8fd1edf5",
   "metadata": {
    "execution": {
     "iopub.execute_input": "2023-02-02T23:18:56.624465Z",
     "iopub.status.busy": "2023-02-02T23:18:56.623987Z",
     "iopub.status.idle": "2023-02-02T23:18:58.854782Z",
     "shell.execute_reply": "2023-02-02T23:18:58.853432Z",
     "shell.execute_reply.started": "2023-02-02T23:18:56.624434Z"
    },
    "tags": []
   },
   "outputs": [
    {
     "data": {
      "image/png": "[encoded data removed]",
      "text/plain": [
       "<Figure size 216x144 with 1 Axes>"
      ]
     },
     "metadata": {
      "needs_background": "light"
     },
     "output_type": "display_data"
    }
   ],
   "source": [
    "# make Figure and Axes objects\n",
    "fig, ax = plt.subplots(1,1,figsize=[3,2])\n",
    "\n",
    "# create Logo object\n",
    "logo_logo = logomaker.Logo(df,\n",
    "                           ax=ax,\n",
    "                           color_scheme=color_scheme,\n",
    "                           baseline_width=0,\n",
    "                           font_name='Arial',\n",
    "                           show_spines=False,\n",
    "                           vsep=.005,\n",
    "                           width=.95)\n",
    "\n",
    "# color the 'O' at the end of the logo a different color\n",
    "logo_logo.style_single_glyph(c='t', p=2, color=[1, .65, 0])\n",
    "\n",
    "# change the font of 'maker' and flip characters upright.\n",
    "logo_logo.style_glyphs_below(font_name='OCR A Std', flip=False, width=1.0)\n",
    "logo_logo.style_xticks(spacing=1, anchor=25, rotation=45, fmt=\"%d\", fontsize=14)\n",
    "logo_logo.ax.set_xticks([0, 1, 2, 3, 4])\n",
    "logo_logo.style_spines(visible=False)\n",
    "logo_logo.style_spines(spines=[\"left\", \"bottom\"], visible=True, linewidth=2)\n",
    "logo_logo.ax.set_ylim([-0.5, 0.5])\n",
    "logo_logo.ax.set_yticks([0, 1])\n",
    "logo_logo.ax.set_yticklabels([\"0\", \"2\"])\n",
    "logo_logo.ax.set_ylabel(\"bits\")\n",
    "\n",
    "# tighten layout\n",
    "logo_logo.fig.tight_layout()\n",
    "plt.savefig(\"MotifData_logo.pdf\", dpi=300)"
   ]
  },
  {
   "cell_type": "code",
   "execution_count": null,
   "id": "1dca2402-3185-4668-99a5-efb2c11c3847",
   "metadata": {},
   "outputs": [],
   "source": []
  },
  {
   "cell_type": "code",
   "execution_count": null,
   "id": "89a19446-dc56-4462-b81a-c6e079023952",
   "metadata": {},
   "outputs": [],
   "source": []
  }
 ],
 "metadata": {
  "kernelspec": {
   "display_name": "Python 3.7 eugene_dev",
   "language": "python",
   "name": "eugene_dev"
  },
  "language_info": {
   "codemirror_mode": {
    "name": "ipython",
    "version": 3
   },
   "file_extension": ".py",
   "mimetype": "text/x-python",
   "name": "python",
   "nbconvert_exporter": "python",
   "pygments_lexer": "ipython3",
   "version": "3.7.12"
  }
 },
 "nbformat": 4,
 "nbformat_minor": 5
}
