{
 "cells": [
  {
   "cell_type": "code",
   "execution_count": 1,
   "metadata": {},
   "outputs": [],
   "source": [
    "from pkg_resources import resource_filename"
   ]
  },
  {
   "cell_type": "code",
   "execution_count": 39,
   "metadata": {},
   "outputs": [],
   "source": [
    "def describe_motif_set(motif_set):\n",
    "    print(f\"# motifs: {len(motif_set)}\")\n",
    "    print(f\"Alphabet: {motif_set.alphabet}\")\n",
    "    print(f\"Version: {motif_set.version}\")\n",
    "    print(f\"Strands: {motif_set.strands}\")\n",
    "    print(f\"Background: {motif_set.background}\")\n",
    "    print(f\"Background source: {motif_set.background_source}\")"
   ]
  },
  {
   "cell_type": "code",
   "execution_count": 3,
   "metadata": {},
   "outputs": [],
   "source": [
    "def print_all_motifs(motif_set):\n",
    "    for motif in motif_set:\n",
    "        print(f\"Identifer: {motif.identifier}\")\n",
    "        print(f\"Name: {motif.name}\")\n",
    "        print(f\"Consensus: {motif.consensus}\")\n",
    "        print(f\"PFM: {motif.pfm} with shape {motif.pfm.shape}\")\n",
    "        print()"
   ]
  },
  {
   "attachments": {},
   "cell_type": "markdown",
   "metadata": {},
   "source": [
    "# Read/write MEME"
   ]
  },
  {
   "cell_type": "code",
   "execution_count": 4,
   "metadata": {},
   "outputs": [],
   "source": [
    "from motifdata import read_meme, write_meme"
   ]
  },
  {
   "cell_type": "code",
   "execution_count": 5,
   "metadata": {},
   "outputs": [],
   "source": [
    "meme_file = resource_filename('motifdata', 'resources/sample.meme')"
   ]
  },
  {
   "cell_type": "code",
   "execution_count": 6,
   "metadata": {},
   "outputs": [
    {
     "name": "stdout",
     "output_type": "stream",
     "text": [
      "Alphabet: ACGT\n",
      "Version: 5\n",
      "Strands: + -\n",
      "Background: {'A': 0.25, 'C': 0.25, 'G': 0.25, 'T': 0.25}\n",
      "Background source: None\n"
     ]
    }
   ],
   "source": [
    "motif_set = read_meme(meme_file)\n",
    "describe_motif_set(motif_set)"
   ]
  },
  {
   "cell_type": "code",
   "execution_count": 7,
   "metadata": {},
   "outputs": [
    {
     "name": "stdout",
     "output_type": "stream",
     "text": [
      "Identifer: TATA\n",
      "Name: TATA\n",
      "Consensus: CCCCTATAAATACCCC\n",
      "PFM: [[0.1275 0.3765 0.1195 0.3765]\n",
      " [0.1575 0.3985 0.199  0.2455]\n",
      " [0.249  0.303  0.197  0.251 ]\n",
      " [0.1235 0.655  0.0755 0.1455]\n",
      " [0.01   0.002  0.002  0.986 ]\n",
      " [0.968  0.     0.     0.032 ]\n",
      " [0.002  0.014  0.006  0.978 ]\n",
      " [0.992  0.     0.002  0.006 ]\n",
      " [0.653  0.012  0.002  0.333 ]\n",
      " [0.974  0.     0.008  0.018 ]\n",
      " [0.341  0.028  0.036  0.5955]\n",
      " [0.6955 0.0815 0.1195 0.1035]\n",
      " [0.1255 0.432  0.3165 0.1255]\n",
      " [0.291  0.418  0.175  0.1155]\n",
      " [0.263  0.3445 0.1755 0.2175]\n",
      " [0.307  0.3085 0.2365 0.1475]] with shape (16, 4)\n",
      "\n",
      "Identifer: Inr\n",
      "Name: Inr\n",
      "Consensus: CTATTCATCA\n",
      "PFM: [[0.131  0.467  0.14   0.262 ]\n",
      " [0.168  0.346  0.093  0.393 ]\n",
      " [0.41   0.23   0.075  0.285 ]\n",
      " [0.238  0.2895 0.1265 0.3455]\n",
      " [0.1355 0.2805 0.125  0.4585]\n",
      " [0.059  0.815  0.054  0.0725]\n",
      " [0.919  0.029  0.0145 0.038 ]\n",
      " [0.2015 0.2815 0.1345 0.382 ]\n",
      " [0.277  0.36   0.114  0.249 ]\n",
      " [0.417  0.183  0.1    0.3   ]] with shape (10, 4)\n",
      "\n",
      "Identifer: POL006.1\n",
      "Name: BREu\n",
      "Consensus: AGCGCGCC\n",
      "PFM: [[0.545455 0.318182 0.090909 0.045455]\n",
      " [0.136364 0.363636 0.5      0.      ]\n",
      " [0.045455 0.636364 0.318182 0.      ]\n",
      " [0.272727 0.181818 0.545455 0.      ]\n",
      " [0.181818 0.681818 0.090909 0.045455]\n",
      " [0.       0.       1.       0.      ]\n",
      " [0.       0.909091 0.045455 0.045455]\n",
      " [0.045455 0.818182 0.045455 0.090909]] with shape (8, 4)\n",
      "\n",
      "Identifer: POL007.1\n",
      "Name: BREd\n",
      "Consensus: GTTTGTT\n",
      "PFM: [[0.243902 0.097561 0.463415 0.195122]\n",
      " [0.121951 0.195122 0.195122 0.487805]\n",
      " [0.243902 0.146341 0.268293 0.341463]\n",
      " [0.073171 0.146341 0.365854 0.414634]\n",
      " [0.097561 0.195122 0.365854 0.341463]\n",
      " [0.04878  0.146341 0.317073 0.487805]\n",
      " [0.146341 0.219512 0.243902 0.390244]] with shape (7, 4)\n",
      "\n",
      "Identifer: Ypatch\n",
      "Name: Ypatch\n",
      "Consensus: CCCCCCCC\n",
      "PFM: [[0.05232558 0.5406977  0.01744186 0.3895349 ]\n",
      " [0.01744186 0.5813953  0.01744186 0.3837209 ]\n",
      " [0.01162791 0.6162791  0.01744186 0.3546512 ]\n",
      " [0.01162791 0.5930233  0.02325581 0.372093  ]\n",
      " [0.01162791 0.6104651  0.03488372 0.3430233 ]\n",
      " [0.02325581 0.6046512  0.02325581 0.3488372 ]\n",
      " [0.03488372 0.627907   0.01744186 0.3197674 ]\n",
      " [0.02325581 0.6162791  0.04069767 0.3197674 ]] with shape (8, 4)\n",
      "\n",
      "Identifer: TCT\n",
      "Name: TCT\n",
      "Consensus: TCTTTT\n",
      "PFM: [[0.         0.3694581  0.01970443 0.6108374 ]\n",
      " [0.         0.9704433  0.01477833 0.01477833]\n",
      " [0.00985222 0.06896552 0.00985222 0.91133   ]\n",
      " [0.00492611 0.2561576  0.01477833 0.7241379 ]\n",
      " [0.00985222 0.05418719 0.         0.9359606 ]\n",
      " [0.01477833 0.3004926  0.00985222 0.6748768 ]] with shape (6, 4)\n",
      "\n"
     ]
    }
   ],
   "source": [
    "print_all_motifs(motif_set)"
   ]
  },
  {
   "cell_type": "code",
   "execution_count": 8,
   "metadata": {},
   "outputs": [
    {
     "name": "stdout",
     "output_type": "stream",
     "text": [
      "Saved pfm in MEME format as: /cellar/users/aklie/projects/ML4GLand/MotifData/motifdata/resources/sample_out.meme\n"
     ]
    }
   ],
   "source": [
    "write_meme(\n",
    "    motif_set = motif_set,\n",
    "    filename = resource_filename('motifdata', 'resources/sample_out.meme')\n",
    ")"
   ]
  },
  {
   "attachments": {},
   "cell_type": "markdown",
   "metadata": {},
   "source": [
    "# Read/write HOMER"
   ]
  },
  {
   "cell_type": "code",
   "execution_count": 9,
   "metadata": {},
   "outputs": [],
   "source": [
    "from motifdata import read_homer, write_homer"
   ]
  },
  {
   "cell_type": "code",
   "execution_count": 10,
   "metadata": {},
   "outputs": [],
   "source": [
    "homer_file = resource_filename('motifdata', 'resources/sample.motifs')"
   ]
  },
  {
   "cell_type": "code",
   "execution_count": 11,
   "metadata": {},
   "outputs": [
    {
     "name": "stdout",
     "output_type": "stream",
     "text": [
      "Alphabet: ACGT\n",
      "Version: None\n",
      "Strands: None\n",
      "Background: {'A': 0.25, 'C': 0.25, 'G': 0.25, 'T': 0.25}\n",
      "Background source: None\n"
     ]
    }
   ],
   "source": [
    "motif_set = read_homer(homer_file)\n",
    "describe_motif_set(motif_set)"
   ]
  },
  {
   "cell_type": "code",
   "execution_count": 12,
   "metadata": {},
   "outputs": [
    {
     "name": "stdout",
     "output_type": "stream",
     "text": [
      "Identifer: CGTRNAAARTGA\n",
      "Name: ABF1/SacCer-Promoters/Homer\n",
      "Consensus: CGTGCAAAATGA\n",
      "PFM: [[0.001 0.962 0.036 0.001]\n",
      " [0.001 0.001 0.997 0.001]\n",
      " [0.036 0.001 0.001 0.962]\n",
      " [0.326 0.15  0.429 0.095]\n",
      " [0.188 0.294 0.28  0.239]\n",
      " [0.408 0.181 0.187 0.224]\n",
      " [0.42  0.126 0.243 0.212]\n",
      " [0.426 0.274 0.187 0.112]\n",
      " [0.535 0.001 0.463 0.001]\n",
      " [0.037 0.331 0.001 0.631]\n",
      " [0.001 0.001 0.905 0.093]\n",
      " [0.98  0.018 0.001 0.001]] with shape (12, 4)\n",
      "\n",
      "Identifer: TCACGTGAYH\n",
      "Name: Cbf1(bHLH)/Yeast-Cbf1-ChIP-Seq(GSE29506)/Homer\n",
      "Consensus: TCACGTGACC\n",
      "PFM: [[0.067 0.105 0.22  0.608]\n",
      " [0.004 0.989 0.006 0.001]\n",
      " [0.978 0.009 0.007 0.006]\n",
      " [0.007 0.931 0.001 0.061]\n",
      " [0.032 0.01  0.957 0.001]\n",
      " [0.001 0.005 0.005 0.989]\n",
      " [0.001 0.003 0.979 0.017]\n",
      " [0.79  0.116 0.062 0.032]\n",
      " [0.146 0.438 0.033 0.383]\n",
      " [0.231 0.34  0.15  0.279]] with shape (10, 4)\n",
      "\n",
      "Identifer: CTYTCTYTCTCTCTC\n",
      "Name: GAGA-repeat/SacCer-Promoters/Homer\n",
      "Consensus: CTCTCTCTCTCTCTC\n",
      "PFM: [[0.091 0.563 0.083 0.263]\n",
      " [0.083 0.075 0.064 0.778]\n",
      " [0.075 0.495 0.075 0.355]\n",
      " [0.057 0.069 0.057 0.817]\n",
      " [0.103 0.615 0.074 0.208]\n",
      " [0.022 0.088 0.064 0.826]\n",
      " [0.084 0.488 0.048 0.38 ]\n",
      " [0.07  0.152 0.06  0.718]\n",
      " [0.066 0.754 0.04  0.14 ]\n",
      " [0.062 0.101 0.061 0.776]\n",
      " [0.048 0.777 0.049 0.126]\n",
      " [0.035 0.053 0.065 0.847]\n",
      " [0.065 0.735 0.062 0.138]\n",
      " [0.065 0.092 0.069 0.774]\n",
      " [0.104 0.503 0.066 0.327]] with shape (15, 4)\n",
      "\n",
      "Identifer: CCCACGTGCT\n",
      "Name: Pho2(bHLH)/Yeast-Pho2-ChIP-Seq(GSE29506)/Homer\n",
      "Consensus: CCCACGTGCT\n",
      "PFM: [[0.116 0.493 0.261 0.129]\n",
      " [0.068 0.681 0.152 0.099]\n",
      " [0.049 0.879 0.049 0.023]\n",
      " [0.862 0.001 0.054 0.083]\n",
      " [0.026 0.95  0.023 0.001]\n",
      " [0.001 0.001 0.997 0.001]\n",
      " [0.028 0.026 0.023 0.923]\n",
      " [0.075 0.001 0.923 0.001]\n",
      " [0.109 0.696 0.096 0.099]\n",
      " [0.063 0.194 0.143 0.6  ]] with shape (10, 4)\n",
      "\n",
      "Identifer: AAGCACGTGBGD\n",
      "Name: Pho4(bHLH)/Yeast-Pho4-ChIP-Seq(GSE29506)/Homer\n",
      "Consensus: AAGCACGTGTGT\n",
      "PFM: [[0.518 0.072 0.194 0.216]\n",
      " [0.56  0.144 0.295 0.001]\n",
      " [0.072 0.36  0.567 0.001]\n",
      " [0.001 0.997 0.001 0.001]\n",
      " [0.997 0.001 0.001 0.001]\n",
      " [0.001 0.997 0.001 0.001]\n",
      " [0.001 0.001 0.997 0.001]\n",
      " [0.001 0.001 0.001 0.997]\n",
      " [0.001 0.001 0.997 0.001]\n",
      " [0.001 0.338 0.301 0.36 ]\n",
      " [0.216 0.151 0.496 0.137]\n",
      " [0.301 0.144 0.208 0.347]] with shape (12, 4)\n",
      "\n",
      "Identifer: KCCGGGTAAYRR\n",
      "Name: REB1/SacCer-Promoters/Homer\n",
      "Consensus: GCCGGGTAACAA\n",
      "PFM: [[0.226 0.087 0.39  0.297]\n",
      " [0.185 0.486 0.191 0.139]\n",
      " [0.261 0.613 0.012 0.114]\n",
      " [0.027 0.001 0.971 0.001]\n",
      " [0.001 0.016 0.982 0.001]\n",
      " [0.021 0.017 0.961 0.001]\n",
      " [0.012 0.001 0.005 0.982]\n",
      " [0.808 0.048 0.088 0.056]\n",
      " [0.946 0.001 0.048 0.005]\n",
      " [0.179 0.433 0.086 0.302]\n",
      " [0.453 0.131 0.333 0.083]\n",
      " [0.384 0.177 0.297 0.142]] with shape (12, 4)\n",
      "\n",
      "Identifer: WTTTTCYYTTTT\n",
      "Name: RLR1?/SacCer-Promoters/Homer\n",
      "Consensus: ATTTTCTTTTTT\n",
      "PFM: [[0.437 0.226 0.029 0.309]\n",
      " [0.133 0.12  0.053 0.694]\n",
      " [0.001 0.001 0.146 0.852]\n",
      " [0.001 0.001 0.001 0.997]\n",
      " [0.001 0.088 0.001 0.91 ]\n",
      " [0.041 0.651 0.001 0.307]\n",
      " [0.206 0.361 0.038 0.396]\n",
      " [0.245 0.318 0.001 0.436]\n",
      " [0.056 0.153 0.139 0.652]\n",
      " [0.001 0.001 0.001 0.997]\n",
      " [0.001 0.001 0.001 0.997]\n",
      " [0.001 0.062 0.001 0.936]] with shape (12, 4)\n",
      "\n",
      "Identifer: DDAAAAATTTTY\n",
      "Name: SFP1/SacCer-Promoters/Homer\n",
      "Consensus: TGAAAAATTTTC\n",
      "PFM: [[0.225 0.158 0.301 0.316]\n",
      " [0.285 0.169 0.333 0.213]\n",
      " [0.612 0.058 0.329 0.001]\n",
      " [0.937 0.061 0.001 0.001]\n",
      " [0.997 0.001 0.001 0.001]\n",
      " [0.967 0.016 0.001 0.016]\n",
      " [0.643 0.022 0.007 0.328]\n",
      " [0.293 0.01  0.051 0.646]\n",
      " [0.001 0.001 0.001 0.997]\n",
      " [0.03  0.001 0.051 0.918]\n",
      " [0.001 0.062 0.044 0.893]\n",
      " [0.068 0.461 0.04  0.432]] with shape (12, 4)\n",
      "\n",
      "Identifer: CCCCGCGC\n",
      "Name: SUT1?/SacCer-Promoters/Homer\n",
      "Consensus: CCCCGCGC\n",
      "PFM: [[0.069 0.877 0.011 0.043]\n",
      " [0.133 0.686 0.1   0.081]\n",
      " [0.042 0.749 0.126 0.083]\n",
      " [0.101 0.635 0.115 0.149]\n",
      " [0.006 0.114 0.663 0.217]\n",
      " [0.066 0.834 0.028 0.072]\n",
      " [0.021 0.186 0.723 0.07 ]\n",
      " [0.024 0.836 0.023 0.117]] with shape (8, 4)\n",
      "\n",
      "Identifer: BBHWTATATA\n",
      "Name: TATA-box/SacCer-Promoters/Homer\n",
      "Consensus: CCTTTATATA\n",
      "PFM: [[0.162 0.349 0.225 0.263]\n",
      " [0.143 0.321 0.245 0.291]\n",
      " [0.21  0.309 0.162 0.319]\n",
      " [0.289 0.192 0.168 0.351]\n",
      " [0.001 0.192 0.001 0.806]\n",
      " [0.714 0.001 0.001 0.284]\n",
      " [0.001 0.001 0.001 0.997]\n",
      " [0.947 0.001 0.001 0.051]\n",
      " [0.208 0.125 0.005 0.662]\n",
      " [0.75  0.246 0.001 0.003]] with shape (10, 4)\n",
      "\n",
      "Identifer: GCGATGAGMT\n",
      "Name: TOD6?/SacCer-Promoters/Homer\n",
      "Consensus: GCGATGAGCT\n",
      "PFM: [[0.044 0.017 0.891 0.048]\n",
      " [0.34  0.513 0.07  0.077]\n",
      " [0.011 0.025 0.928 0.036]\n",
      " [0.901 0.052 0.02  0.027]\n",
      " [0.025 0.048 0.036 0.891]\n",
      " [0.03  0.05  0.897 0.023]\n",
      " [0.908 0.041 0.035 0.016]\n",
      " [0.02  0.059 0.887 0.034]\n",
      " [0.361 0.424 0.141 0.074]\n",
      " [0.085 0.05  0.097 0.768]] with shape (10, 4)\n",
      "\n"
     ]
    }
   ],
   "source": [
    "print_all_motifs(motif_set)"
   ]
  },
  {
   "cell_type": "code",
   "execution_count": 13,
   "metadata": {},
   "outputs": [
    {
     "name": "stdout",
     "output_type": "stream",
     "text": [
      "Saved pfms in .motifs format as: /cellar/users/aklie/projects/ML4GLand/MotifData/motifdata/resources/sample_out.motifs\n"
     ]
    }
   ],
   "source": [
    "write_homer(\n",
    "    motif_set = motif_set,\n",
    "    filename = resource_filename('motifdata', 'resources/sample_out.motifs')\n",
    ")"
   ]
  },
  {
   "attachments": {},
   "cell_type": "markdown",
   "metadata": {},
   "source": [
    "# Read PFM files"
   ]
  },
  {
   "cell_type": "code",
   "execution_count": 14,
   "metadata": {},
   "outputs": [],
   "source": [
    "pfm_file = resource_filename('motifdata', 'resources/sample.pfm')"
   ]
  },
  {
   "cell_type": "code",
   "execution_count": 15,
   "metadata": {},
   "outputs": [],
   "source": [
    "from motifdata import read_motifs"
   ]
  },
  {
   "cell_type": "code",
   "execution_count": 16,
   "metadata": {},
   "outputs": [
    {
     "name": "stdout",
     "output_type": "stream",
     "text": [
      "Alphabet: None\n",
      "Version: None\n",
      "Strands: None\n",
      "Background: None\n",
      "Background source: None\n"
     ]
    }
   ],
   "source": [
    "motif_set = read_motifs(\n",
    "    filename = pfm_file,\n",
    "    transpose=True\n",
    ")\n",
    "describe_motif_set(motif_set)"
   ]
  },
  {
   "cell_type": "code",
   "execution_count": 17,
   "metadata": {},
   "outputs": [
    {
     "name": "stdout",
     "output_type": "stream",
     "text": [
      "Identifer: >MA0037.3\n",
      "Name: GATA3\n",
      "Consensus: AGATAAGA\n",
      "PFM: [[0.502      0.226      0.001      0.271     ]\n",
      " [0.         0.         1.         0.        ]\n",
      " [1.         0.         0.         0.        ]\n",
      " [0.         0.         0.         1.        ]\n",
      " [0.91491491 0.002002   0.         0.08308308]\n",
      " [0.862      0.015      0.076      0.047     ]\n",
      " [0.114      0.301      0.476      0.109     ]\n",
      " [0.423      0.188      0.321      0.068     ]] with shape (8, 4)\n",
      "\n",
      "Identifer: >MA0098.1\n",
      "Name: ETS1\n",
      "Consensus: CTTCCG\n",
      "PFM: [[0.1   0.4   0.1   0.4  ]\n",
      " [0.425 0.    0.    0.575]\n",
      " [0.    0.025 0.    0.975]\n",
      " [0.    0.975 0.025 0.   ]\n",
      " [0.    0.975 0.    0.025]\n",
      " [0.125 0.075 0.425 0.375]] with shape (6, 4)\n",
      "\n"
     ]
    }
   ],
   "source": [
    "print_all_motifs(motif_set)"
   ]
  },
  {
   "attachments": {},
   "cell_type": "markdown",
   "metadata": {},
   "source": [
    "# Load from JASPAR"
   ]
  },
  {
   "cell_type": "code",
   "execution_count": 18,
   "metadata": {},
   "outputs": [],
   "source": [
    "from motifdata import load_jaspar"
   ]
  },
  {
   "cell_type": "code",
   "execution_count": 40,
   "metadata": {},
   "outputs": [],
   "source": [
    "motif_set = load_jaspar(collection=\"CORE\", release=\"JASPAR2022\")"
   ]
  },
  {
   "cell_type": "code",
   "execution_count": 41,
   "metadata": {},
   "outputs": [],
   "source": [
    "motif_set.alphabet = \"ACGT\"\n",
    "motif_set.background = {\"A\": 0.25, \"C\": 0.25, \"G\": 0.25, \"T\": 0.25}"
   ]
  },
  {
   "cell_type": "code",
   "execution_count": 42,
   "metadata": {},
   "outputs": [
    {
     "name": "stdout",
     "output_type": "stream",
     "text": [
      "# motifs: 1956\n",
      "Alphabet: ACGT\n",
      "Version: None\n",
      "Strands: None\n",
      "Background: {'A': 0.25, 'C': 0.25, 'G': 0.25, 'T': 0.25}\n",
      "Background source: None\n"
     ]
    }
   ],
   "source": [
    "describe_motif_set(motif_set)"
   ]
  },
  {
   "cell_type": "code",
   "execution_count": 43,
   "metadata": {},
   "outputs": [
    {
     "name": "stdout",
     "output_type": "stream",
     "text": [
      "Identifer: MA0004.1\n",
      "Name: Arnt\n",
      "Consensus: CACGTG\n",
      "PFM: [[0.2  0.8  0.   0.  ]\n",
      " [0.95 0.   0.05 0.  ]\n",
      " [0.   1.   0.   0.  ]\n",
      " [0.   0.   1.   0.  ]\n",
      " [0.   0.   0.   1.  ]\n",
      " [0.   0.   1.   0.  ]] with shape (6, 4)\n",
      "\n"
     ]
    }
   ],
   "source": [
    "for motif in motif_set:\n",
    "    print(f\"Identifer: {motif.identifier}\")\n",
    "    print(f\"Name: {motif.name}\")\n",
    "    print(f\"Consensus: {motif.consensus}\")\n",
    "    print(f\"PFM: {motif.pfm} with shape {motif.pfm.shape}\")\n",
    "    print()\n",
    "    break"
   ]
  },
  {
   "cell_type": "code",
   "execution_count": 44,
   "metadata": {},
   "outputs": [
    {
     "name": "stdout",
     "output_type": "stream",
     "text": [
      "Saved pfm in MEME format as: /cellar/users/aklie/projects/ML4GLand/MotifData/motifdata/resources/jaspar_out.meme\n"
     ]
    }
   ],
   "source": [
    "write_meme(\n",
    "    motif_set = motif_set,\n",
    "    filename = resource_filename('motifdata', 'resources/jaspar_out.meme')\n",
    ")"
   ]
  },
  {
   "attachments": {},
   "cell_type": "markdown",
   "metadata": {},
   "source": [
    "# DONE!"
   ]
  },
  {
   "attachments": {},
   "cell_type": "markdown",
   "metadata": {},
   "source": [
    "---"
   ]
  },
  {
   "attachments": {},
   "cell_type": "markdown",
   "metadata": {},
   "source": [
    "# Scratch"
   ]
  }
 ],
 "metadata": {
  "kernelspec": {
   "display_name": "Python 3.9 ml4gland",
   "language": "python",
   "name": "ml4gland"
  },
  "orig_nbformat": 4
 },
 "nbformat": 4,
 "nbformat_minor": 2
}
